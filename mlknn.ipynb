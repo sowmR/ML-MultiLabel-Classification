{
 "cells": [
  {
   "cell_type": "code",
   "execution_count": null,
   "id": "educational-vacuum",
   "metadata": {},
   "outputs": [],
   "source": [
    "from skmultilearn.dataset import load_dataset\n",
    "from skmultilearn.adapt import MLkNN\n",
    "\n",
    "from sklearn import metrics as METS\n",
    "\n",
    "X_train, y_train, feature_names, label_names = load_dataset('emotions', 'train')\n",
    "X_test, y_test, _, _ =load_dataset('emotions', 'test')\n"
   ]
  },
  {
   "cell_type": "code",
   "execution_count": null,
   "id": "industrial-shareware",
   "metadata": {},
   "outputs": [],
   "source": [
    "classifier = MLkNN(k=3)\n",
    "prediction = classifier.fit(X_train, y_train).predict(X_test)\n",
    "METS.hamming_loss(y_test,prediction)"
   ]
  },
  {
   "cell_type": "code",
   "execution_count": null,
   "id": "numerical-margin",
   "metadata": {},
   "outputs": [],
   "source": []
  }
 ],
 "metadata": {
  "kernelspec": {
   "display_name": "Python 3",
   "language": "python",
   "name": "python3"
  },
  "language_info": {
   "codemirror_mode": {
    "name": "ipython",
    "version": 3
   },
   "file_extension": ".py",
   "mimetype": "text/x-python",
   "name": "python",
   "nbconvert_exporter": "python",
   "pygments_lexer": "ipython3",
   "version": "3.9.2"
  }
 },
 "nbformat": 4,
 "nbformat_minor": 5
}
